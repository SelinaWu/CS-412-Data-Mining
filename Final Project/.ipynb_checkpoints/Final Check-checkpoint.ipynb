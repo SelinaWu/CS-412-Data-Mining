{
 "cells": [
  {
   "cell_type": "code",
   "execution_count": 4,
   "metadata": {},
   "outputs": [],
   "source": [
    "from random import seed, randrange\n",
    "from math import sqrt\n",
    "import numpy as np\n",
    "from csv import reader"
   ]
  },
  {
   "cell_type": "code",
   "execution_count": null,
   "metadata": {},
   "outputs": [],
   "source": [
    "def folder_split(dataset, n_folders):\n",
    "    folders = []\n",
    "    folder_size = len(dataset)/n_folders\n",
    "    print(\"len:\", len(dataset),\"size:\", folder_size)\n",
    "    for i in range(n_folders):\n",
    "        temp_folder = []\n",
    "        print(i)\n",
    "        while len(temp_folder) < folder_size:\n",
    "            ind = randrange(len(dataset))\n",
    "            temp_folder.append(np.delete(dataset,ind,0))\n",
    "            print(len(temp_folder))\n",
    "        folders.append(temp_folder)\n",
    "    return folders"
   ]
  },
  {
   "cell_type": "code",
   "execution_count": 10,
   "metadata": {},
   "outputs": [],
   "source": [
    "# training data ~~~~~~~~~~~~~~~~~~~~~~~~~~~~~~~~~~~~~~~~~~~~~~~~\n",
    "training = \"imputed_training.csv\"\n",
    "train_data = open(training).read()\n",
    "train_data = [n.split(',') for n in train_data.split('\\n')]\n",
    "\n",
    "category = train_data[0]\n",
    "del train_data[0]\n",
    "train_data = np.array(train_data[:-1]).astype(np.float) # X - Y\n",
    "#classes = train_data[:,-1] # Y\n",
    "#train_data = np.delete(train_data,-1,1) # delete Y from X\n",
    "train_data = np.delete(train_data,0,1) # delete id"
   ]
  },
  {
   "cell_type": "code",
   "execution_count": null,
   "metadata": {
    "scrolled": true
   },
   "outputs": [],
   "source": [
    "data_split = folder_split(train_data,10)"
   ]
  },
  {
   "cell_type": "code",
   "execution_count": 6,
   "metadata": {},
   "outputs": [],
   "source": [
    "folder = np.array([0,1])"
   ]
  },
  {
   "cell_type": "code",
   "execution_count": 14,
   "metadata": {},
   "outputs": [],
   "source": [
    "folder = np.append(folder,[5])"
   ]
  },
  {
   "cell_type": "code",
   "execution_count": 15,
   "metadata": {},
   "outputs": [
    {
     "data": {
      "text/plain": [
       "array([3, 4, 3, 5])"
      ]
     },
     "execution_count": 15,
     "metadata": {},
     "output_type": "execute_result"
    }
   ],
   "source": [
    "folder"
   ]
  },
  {
   "cell_type": "code",
   "execution_count": null,
   "metadata": {},
   "outputs": [],
   "source": []
  }
 ],
 "metadata": {
  "kernelspec": {
   "display_name": "Python 3",
   "language": "python",
   "name": "python3"
  },
  "language_info": {
   "codemirror_mode": {
    "name": "ipython",
    "version": 3
   },
   "file_extension": ".py",
   "mimetype": "text/x-python",
   "name": "python",
   "nbconvert_exporter": "python",
   "pygments_lexer": "ipython3",
   "version": "3.5.2"
  }
 },
 "nbformat": 4,
 "nbformat_minor": 2
}
