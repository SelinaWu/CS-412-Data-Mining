{
 "cells": [
  {
   "cell_type": "code",
   "execution_count": 1,
   "metadata": {
    "collapsed": false
   },
   "outputs": [
    {
     "name": "stdout",
     "output_type": "stream",
     "text": [
      "[8. 8. 6. ... 6. 5. 6.]\n",
      "\n",
      "[[1.00000000e+00 1.50000000e+01 1.00000000e+01 2.30769231e-01\n",
      "  2.00000000e+00 3.00000000e+00 1.00000000e+00 3.28358209e-01\n",
      "  6.36363636e-01 1.73640167e-01 3.25490048e-01 2.40000000e-02\n",
      "  1.00000000e+00 3.00000000e+00 0.00000000e+00 3.00000000e+00\n",
      "  1.00000000e-01 2.00000000e+00 2.00000000e+00 6.00000000e+00\n",
      "  3.00000000e+00 1.00000000e+00 2.00000000e+00 1.00000000e+00\n",
      "  2.00000000e+00 1.00000000e+00 3.00000000e+00 2.00000000e+00\n",
      "  3.33000000e-05 1.00000000e+00 3.00000000e+00 2.00000000e+00\n",
      "  3.00000000e+00 4.63768116e-01 5.58823529e-01 4.22535211e-01\n",
      "  5.08928571e-01 3.00000000e+00 1.45000000e+02 2.00000000e+00\n",
      "  2.00000000e+00 1.00000000e+00 3.00000000e+00 2.00000000e+00\n",
      "  2.00000000e+00 2.00000000e+00 2.40000000e+02 3.00000000e+00\n",
      "  2.00000000e+00 3.00000000e+00 3.00000000e+00 1.16000000e+02\n",
      "  1.00000000e+00 3.00000000e+00 2.00000000e+00 1.00000000e+00\n",
      "  2.00000000e+00 1.00000000e+00 2.00000000e+00 3.00000000e+00\n",
      "  9.00000000e+00 1.00000000e+00 3.00000000e+00 3.00000000e+00\n",
      "  1.00000000e+00 3.00000000e+00 2.00000000e+00 3.00000000e+00\n",
      "  0.00000000e+00 3.00000000e+00 3.00000000e+00 1.00000000e+00\n",
      "  2.00000000e+00 2.00000000e+00 1.00000000e+00 3.00000000e+00\n",
      "  3.00000000e+00 1.00000000e+00 0.00000000e+00 0.00000000e+00\n",
      "  0.00000000e+00 0.00000000e+00 0.00000000e+00 0.00000000e+00\n",
      "  0.00000000e+00 0.00000000e+00 0.00000000e+00 0.00000000e+00\n",
      "  0.00000000e+00 0.00000000e+00 0.00000000e+00 0.00000000e+00\n",
      "  0.00000000e+00 0.00000000e+00 0.00000000e+00 0.00000000e+00\n",
      "  0.00000000e+00 0.00000000e+00 0.00000000e+00 0.00000000e+00\n",
      "  0.00000000e+00 0.00000000e+00 0.00000000e+00 0.00000000e+00\n",
      "  0.00000000e+00 0.00000000e+00 0.00000000e+00 0.00000000e+00\n",
      "  0.00000000e+00 0.00000000e+00 0.00000000e+00 1.00000000e+00\n",
      "  0.00000000e+00 0.00000000e+00 0.00000000e+00 0.00000000e+00\n",
      "  0.00000000e+00 0.00000000e+00 0.00000000e+00 0.00000000e+00\n",
      "  0.00000000e+00 0.00000000e+00 0.00000000e+00 0.00000000e+00\n",
      "  0.00000000e+00 0.00000000e+00]]\n"
     ]
    }
   ],
   "source": [
    "import numpy as np\n",
    "\n",
    "training = \"imputed_training.csv\"\n",
    "train_data = open(training).read()\n",
    "train_data = [n.split(',') for n in train_data.split('\\n')]\n",
    "\n",
    "category = train_data[0]\n",
    "del train_data[0]\n",
    "train_data = np.array(train_data[:-1]).astype(np.float) # X\n",
    "classes = train_data[:,-1] # Y\n",
    "train_data = np.delete(train_data,-1,1) # delete Y from X\n",
    "train_data = np.delete(train_data,0,1) # delete id\n",
    "\n",
    "\n",
    "print(classes)\n",
    "print()\n",
    "print(train_data[:1])\n",
    "#print(len(train_data[:1][0]))\n",
    "#print(len(test_data[:1][0]))"
   ]
  },
  {
   "cell_type": "code",
   "execution_count": 2,
   "metadata": {
    "collapsed": false
   },
   "outputs": [],
   "source": [
    "testing = \"imputed_testing.csv\"\n",
    "test_data = open(testing).read()\n",
    "test_data = [n.split(',') for n in test_data.split('\\n')]\n",
    "del test_data[0]\n",
    "test_data = np.array(test_data[:-1]) \n",
    "ID = test_data[:,0]\n",
    "test_data = test_data.astype(np.float)\n",
    "test_data = np.delete(test_data,0,1) # delete id"
   ]
  },
  {
   "cell_type": "code",
   "execution_count": 10,
   "metadata": {
    "collapsed": false
   },
   "outputs": [],
   "source": [
    "from sklearn.naive_bayes import GaussianNB\n",
    "\n",
    "clf = BernoulliNB()\n",
    "pred_class = clf.fit(train_data, classes).predict(test_data)"
   ]
  },
  {
   "cell_type": "code",
   "execution_count": 12,
   "metadata": {
    "collapsed": false
   },
   "outputs": [],
   "source": [
    "file = open('output.txt','w') \n",
    "\n",
    "for i in range(len(pred_class)):\n",
    "    temp = str(ID[i]) + \": \" + str(pred_class[i])[:1]\n",
    "    file.write(temp)\n",
    "    file.write('\\n')\n",
    "file.close()"
   ]
  },
  {
   "cell_type": "code",
   "execution_count": 54,
   "metadata": {
    "collapsed": false
   },
   "outputs": [
    {
     "name": "stdout",
     "output_type": "stream",
     "text": [
      "20000\n"
     ]
    }
   ],
   "source": [
    "print(len(classes))"
   ]
  },
  {
   "cell_type": "code",
   "execution_count": 4,
   "metadata": {
    "collapsed": false
   },
   "outputs": [
    {
     "name": "stdout",
     "output_type": "stream",
     "text": [
      "accurate rate:  0.321\n"
     ]
    }
   ],
   "source": [
    "from sklearn.naive_bayes import GaussianNB\n",
    "practice_data = train_data[:15000]\n",
    "practice_classes = classes[:15000]\n",
    "practice_test = train_data[15000:]\n",
    "practice_test_ans = classes[15000:]\n",
    "\n",
    "accurate = GaussianNB()\n",
    "pred = accurate.fit(practice_data,practice_classes).predict(practice_test)\n",
    "res = 0\n",
    "for i in range(len(practice_test)):\n",
    "    if pred[i] == practice_test_ans[i]:\n",
    "        res += 1\n",
    "        \n",
    "print(\"accurate rate: \", res/len(practice_test))"
   ]
  },
  {
   "cell_type": "code",
   "execution_count": 5,
   "metadata": {
    "collapsed": false
   },
   "outputs": [
    {
     "name": "stdout",
     "output_type": "stream",
     "text": [
      "accurate rate:  0.4052\n"
     ]
    }
   ],
   "source": [
    "from sklearn.naive_bayes import BernoulliNB\n",
    "test1 = BernoulliNB()\n",
    "pred1 = test1.fit(practice_data,practice_classes).predict(practice_test)\n",
    "res1 = 0 \n",
    "for i in range(len(practice_test)):\n",
    "    if pred1[i] == practice_test_ans[i]:\n",
    "        res1 += 1\n",
    "        \n",
    "print(\"accurate rate: \", res1/len(practice_test))"
   ]
  },
  {
   "cell_type": "code",
   "execution_count": 114,
   "metadata": {
    "collapsed": false
   },
   "outputs": [
    {
     "data": {
      "image/png": "[encoded data removed]",
      "text/plain": [
       "<matplotlib.figure.Figure at 0x7fc04c324748>"
      ]
     },
     "metadata": {},
     "output_type": "display_data"
    }
   ],
   "source": [
    "import matplotlib.pyplot as plt\n",
    "y = []\n",
    "\n",
    "for i in range(10,120,5):\n",
    "    temp = BernoulliNB()\n",
    "    temp_pred = test1.fit(practice_data[:,:i],practice_classes).predict(practice_test[:,:i])\n",
    "    temp_res = 0 \n",
    "    for i in range(len(practice_test)):\n",
    "        if temp_pred[i] == practice_test_ans[i]:\n",
    "            temp_res += 1\n",
    "    y.append(temp_res/len(practice_test))\n",
    "x = np.arange(10, 120, 5);\n",
    "\n",
    "plt.plot(x, y)\n",
    "plt.show()"
   ]
  },
  {
   "cell_type": "code",
   "execution_count": 113,
   "metadata": {
    "collapsed": false
   },
   "outputs": [
    {
     "data": {
      "image/png": "[encoded data removed]",
      "text/plain": [
       "<matplotlib.figure.Figure at 0x7fc014581cf8>"
      ]
     },
     "metadata": {},
     "output_type": "display_data"
    }
   ],
   "source": [
    "import matplotlib.pyplot as plt\n",
    "a = []\n",
    "\n",
    "for i in range(10,120,5):\n",
    "    accurate = GaussianNB()\n",
    "    pred = accurate.fit(practice_data[:,:i],practice_classes).predict(practice_test[:,:i])\n",
    "    res = 0\n",
    "    for i in range(len(practice_test)):\n",
    "        if pred[i] == practice_test_ans[i]:\n",
    "            res += 1\n",
    "    a.append(res/len(practice_test))\n",
    "    \n",
    "b = np.arange(10, 120, 5);\n",
    "\n",
    "plt.plot(b,a)\n",
    "plt.show()"
   ]
  },
  {
   "cell_type": "code",
   "execution_count": null,
   "metadata": {
    "collapsed": true
   },
   "outputs": [],
   "source": []
  }
 ],
 "metadata": {
  "anaconda-cloud": {},
  "kernelspec": {
   "display_name": "Python [conda root]",
   "language": "python",
   "name": "conda-root-py"
  },
  "language_info": {
   "codemirror_mode": {
    "name": "ipython",
    "version": 3
   },
   "file_extension": ".py",
   "mimetype": "text/x-python",
   "name": "python",
   "nbconvert_exporter": "python",
   "pygments_lexer": "ipython3",
   "version": "3.5.2"
  }
 },
 "nbformat": 4,
 "nbformat_minor": 1
}
