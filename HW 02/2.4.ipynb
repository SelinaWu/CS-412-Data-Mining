{
 "cells": [
  {
   "cell_type": "code",
   "execution_count": 7,
   "metadata": {
    "collapsed": false
   },
   "outputs": [
    {
     "name": "stdout",
     "output_type": "stream",
     "text": [
      "partition: 2\n",
      "partition result: \n",
      "[['a1', 'b2', 'c1'], ['a1', 'b2', 'c1'], ['a1', 'b2', 'c1'], ['a2', 'b1', 'c1'], ['a2', 'b1', 'c1']]\n",
      "[['f2', 'd1', 'e1'], ['f2', 'd2', 'e1'], ['f2', 'd1', 'e2'], ['f2', 'd1', 'e2'], ['f2', 'd1', 'e3']]\n"
     ]
    }
   ],
   "source": [
    "from itertools import combinations\n",
    "\n",
    "fp = 'test'\n",
    "\n",
    "raw_data = open(fp).read()\n",
    "raw_data = [n.split() for n in raw_data.split('\\n')] \n",
    "partition = int(raw_data[0][0])\n",
    "print(\"partition:\",partition)\n",
    "del raw_data[0]\n",
    "size = int(len(raw_data[0])/partition)\n",
    "\n",
    "data = [] # fragments\n",
    "dict_all = [] # value and inverted indexs, e.g. [{'a1': [1, 2, 3]}, {'b1': [3, 4, 5]}]\n",
    "\n",
    "\n",
    "# split raw_data into fragment\n",
    "c = 0\n",
    "while c < int(len(raw_data[0])):\n",
    "    temp = []\n",
    "    for r in raw_data:\n",
    "        temp.append(r[c: c+size]) \n",
    "    c = c + size    \n",
    "    data.append(temp)\n",
    "    \n",
    "seq = [] # sequence at input\n",
    "# check data freq.\n",
    "for frag in data:\n",
    "    dict_temp = {}\n",
    "    for i in frag[0]: \n",
    "        seq.append(i[0])\n",
    "    for ind in range(len(frag)):\n",
    "        for k in frag[ind]:\n",
    "            if dict_temp.get(k) == None: \n",
    "                dict_temp[k] = [ind]\n",
    "            else:\n",
    "                dict_temp[k].append(ind)\n",
    "    dict_all.append(dict_temp)\n",
    "\n",
    "print(\"partition result: \")            \n",
    "for i in data:\n",
    "    print(i)"
   ]
  },
  {
   "cell_type": "code",
   "execution_count": 2,
   "metadata": {
    "collapsed": false
   },
   "outputs": [],
   "source": [
    "# test = ['a1', 'a2', 'b1', 'b2', 'c1']\n",
    "# [['a1', 'a2'], ['b1', 'b2'], ['c1']]\n",
    "def set_by_char(ls):\n",
    "    start = ls[0]\n",
    "    test_after = []\n",
    "    temp = []\n",
    "    for i in ls:\n",
    "        if i[0] == start[0]:\n",
    "            temp.append(i)\n",
    "        else:\n",
    "            test_after.append(temp)\n",
    "            temp = [i]\n",
    "            start = i\n",
    "    test_after.append(temp)\n",
    "    return test_after\n",
    "\n",
    "\n",
    "def comb(ls):\n",
    "    comb_r = []\n",
    "    num = 2\n",
    "    while num <= len(ls):\n",
    "        comb = combinations(ls, num)\n",
    "        num += 1\n",
    "        for i in comb:\n",
    "            temp = []\n",
    "            for j in i:\n",
    "                temp.append(j)\n",
    "            comb_r.append(temp)\n",
    "    return comb_r\n",
    "\n",
    "def second_comb(comb_r):\n",
    "    comb_after = []\n",
    "    for i in comb_r:\n",
    "        temp = []\n",
    "        for j in i:\n",
    "            temp += j\n",
    "        t = comb(temp)\n",
    "        for k in t:\n",
    "            if len(k) == len(i):\n",
    "                comb_after.append(k)\n",
    "    return comb_after\n"
   ]
  },
  {
   "cell_type": "code",
   "execution_count": 3,
   "metadata": {
    "collapsed": false
   },
   "outputs": [
    {
     "name": "stdout",
     "output_type": "stream",
     "text": [
      "sequency:  ['a1', 'a2', 'b1', 'b2', 'c1', 'f2', 'd1', 'd2', 'e1', 'e2', 'e3']\n",
      "\n",
      "dictionary:  {'a2': [3, 4], 'b1': [3, 4], 'c1': [0, 1, 2, 3, 4], 'a1': [0, 1, 2], 'b2': [0, 1, 2]}\n",
      "test: [['a1', 'a2'], ['b1', 'b2'], ['c1']]\n",
      "combination:\n",
      "dictionary:  {'d1': [0, 2, 3, 4], 'e1': [0, 1], 'd2': [1], 'e2': [2, 3], 'e3': [4], 'f2': [0, 1, 2, 3, 4]}\n",
      "test: [['f2'], ['d1', 'd2'], ['e1', 'e2', 'e3']]\n",
      "combination:\n",
      "result:  ['a1:3', 'a2:2', 'b1:2', 'b2:3', 'c1:5', 'a1b2:3', 'a2b1:2', 'a1c1:3', 'a2c1:2', 'b1c1:2', 'b2c1:3', 'a1b2c1:3', 'a2b1c1:2', 'f2:5', 'd1:4', 'd2:1', 'e1:2', 'e2:2', 'e3:1', 'f2d1:4', 'f2d2:1', 'f2e1:2', 'f2e2:2', 'f2e3:1', 'd1e1:1', 'd1e2:2', 'd1e3:1', 'd2e1:1', 'f2d1e1:1', 'f2d1e2:2', 'f2d1e3:1', 'f2d2e1:1']\n"
     ]
    }
   ],
   "source": [
    "sequency = []\n",
    "for i in seq:\n",
    "    for frag in dict_all:\n",
    "        for temp in sorted(frag.keys()):\n",
    "            if i == temp[0]: \n",
    "                sequency.append(temp)\n",
    "print(\"sequency: \", sequency)\n",
    "\n",
    "\n",
    "\n",
    "print()\n",
    "def intersect(a, b):\n",
    "    return list(set(a) & set(b))\n",
    "\n",
    "result = []\n",
    "for dict_frag in dict_all:\n",
    "    print(\"dictionary: \",dict_frag)\n",
    "    temp = sequency\n",
    "    test = []\n",
    "    for char in temp:\n",
    "        if dict_frag.get(char) != None:\n",
    "            output = char + ':' + str(len(dict_frag[char]))\n",
    "            test.append(char)\n",
    "            result.append(output)\n",
    "    test = set_by_char(test)\n",
    "    print(\"test:\",test)\n",
    "    comb_r = comb(test)\n",
    "    print(\"combination:\")\n",
    "    comb_r = second_comb(comb_r)\n",
    "    for elem in comb_r:\n",
    "        t = dict_frag[elem[0]]\n",
    "        for i in range(1,len(elem)):\n",
    "            t = intersect(t,dict_frag[elem[i]])\n",
    "        if len(t) > 0:\n",
    "            s = \"\"\n",
    "            for i in elem:\n",
    "                s += i\n",
    "            output = s + ':' + str(len(t))\n",
    "            result.append(output)\n",
    "        \n",
    "print(\"result: \",result)"
   ]
  },
  {
   "cell_type": "code",
   "execution_count": 4,
   "metadata": {
    "collapsed": false
   },
   "outputs": [],
   "source": [
    "file = open('output','w') \n",
    "\n",
    "for i in result:\n",
    "    file.write(i)\n",
    "    file.write('\\n')\n",
    "file.close()"
   ]
  },
  {
   "cell_type": "code",
   "execution_count": 3,
   "metadata": {
    "collapsed": false
   },
   "outputs": [
    {
     "name": "stdout",
     "output_type": "stream",
     "text": [
      "[('a',), ('b',), ('c',)]\n",
      "[('a', 'b'), ('a', 'c'), ('b', 'c')]\n",
      "[('a', 'b', 'c')]\n",
      "result:  [['a1', 'a2'], ['b2']]\n"
     ]
    }
   ],
   "source": [
    "t = ['a','b','c']\n",
    "test = ['a1', 'a2', 'b1', 'b2', 'c1']\n",
    "num = 1\n",
    "while num <= len(t):\n",
    "    comb = combinations(t, num)\n",
    "    c = []\n",
    "    r = []\n",
    "    for elem in comb:\n",
    "        c.append(elem)\n",
    "    print(c)\n",
    "    curr = test[0]\n",
    "    temp = []\n",
    "    for i in test:\n",
    "        if i[0] == curr[0]:\n",
    "            temp.append(i)\n",
    "        else:\n",
    "            r.append(temp)\n",
    "            curr = i\n",
    "            temp = []\n",
    "    num+=1\n",
    "            \n",
    "    \n",
    "\n",
    "print(\"result: \",r)\n",
    "#s = sorted(student_objects, key=attrgetter('age'))     # sort on secondary key\n",
    "#sorted(s, key=attrgetter('grade'), reverse=True)"
   ]
  },
  {
   "cell_type": "code",
   "execution_count": 206,
   "metadata": {
    "collapsed": false
   },
   "outputs": [
    {
     "name": "stdout",
     "output_type": "stream",
     "text": [
      "('a1', 'a2')\n",
      "('a1', 'b1')\n",
      "('a1', 'b2')\n",
      "('a1', 'c1')\n",
      "('a2', 'b1')\n",
      "('a2', 'b2')\n",
      "('a2', 'c1')\n",
      "('b1', 'b2')\n",
      "('b1', 'c1')\n",
      "('b2', 'c1')\n",
      "\n"
     ]
    }
   ],
   "source": [
    "from operator import itemgetter, attrgetter, methodcaller\n",
    "\n",
    "temp = [('a1', 'a2'), ('a1', 'b1'), ('a1', 'b2'), ('a1', 'c1'), ('a2', 'b1'), ('a2', 'b2'), ('a2', 'c1'), ('b1', 'b2'), ('b1', 'c1'), ('b2', 'c1')]\n",
    "\n",
    "\n",
    "temp = sorted(temp, key=itemgetter(0,1))\n",
    "for i in temp:\n",
    "    print(i)\n",
    "print()\n"
   ]
  },
  {
   "cell_type": "code",
   "execution_count": 229,
   "metadata": {
    "collapsed": false
   },
   "outputs": [
    {
     "name": "stdout",
     "output_type": "stream",
     "text": [
      "('a1', 'b1')\n",
      "('a1', 'b2')\n",
      "('a2', 'b1')\n",
      "('a2', 'b2')\n",
      "('a3', 'b1')\n",
      "('a3', 'b2')\n"
     ]
    }
   ],
   "source": [
    "for i in t:\n",
    "    print(i)"
   ]
  },
  {
   "cell_type": "code",
   "execution_count": null,
   "metadata": {
    "collapsed": true
   },
   "outputs": [],
   "source": []
  }
 ],
 "metadata": {
  "anaconda-cloud": {},
  "kernelspec": {
   "display_name": "Python [conda env:anaconda]",
   "language": "python",
   "name": "conda-env-anaconda-py"
  },
  "language_info": {
   "codemirror_mode": {
    "name": "ipython",
    "version": 3
   },
   "file_extension": ".py",
   "mimetype": "text/x-python",
   "name": "python",
   "nbconvert_exporter": "python",
   "pygments_lexer": "ipython3",
   "version": "3.5.2"
  }
 },
 "nbformat": 4,
 "nbformat_minor": 1
}
