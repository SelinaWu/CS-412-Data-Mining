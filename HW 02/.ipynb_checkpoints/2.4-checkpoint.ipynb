{
 "cells": [
  {
   "cell_type": "code",
   "execution_count": 20,
   "metadata": {
    "collapsed": false
   },
   "outputs": [
    {
     "name": "stdout",
     "output_type": "stream",
     "text": [
      "['a1', 'b2', 'c1', 'f2', 'd1', 'e1']\n",
      "['a1', 'b2', 'c1', 'f2', 'd2', 'e1']\n",
      "['a1', 'b2', 'c1', 'f2', 'd1', 'e2']\n",
      "['a2', 'b1', 'c1', 'f2', 'd1', 'e2']\n",
      "['a2', 'b1', 'c1', 'f2', 'd1', 'e3']\n",
      "\n",
      "[['a1', 'b2', 'c1'], ['a1', 'b2', 'c1'], ['a1', 'b2', 'c1'], ['a2', 'b1', 'c1'], ['a2', 'b1', 'c1']]\n",
      "[['f2', 'd1', 'e1'], ['f2', 'd2', 'e1'], ['f2', 'd1', 'e2'], ['f2', 'd1', 'e2'], ['f2', 'd1', 'e3']]\n",
      "{'f2': 5, 'e3': 1, 'e2': 2, 'a2': 2, 'b1': 2, 'd1': 4, 'e1': 2, 'b2': 3, 'd2': 1, 'a1': 3, 'c1': 5}\n"
     ]
    }
   ],
   "source": [
    "fp = 'test'\n",
    "\n",
    "raw_data = open(fp).read()\n",
    "raw_data = [n.split() for n in raw_data.split('\\n')] \n",
    "partition = int(raw_data[0][0])\n",
    "del raw_data[0]\n",
    "size = int(len(raw_data[0])/partition)\n",
    "\n",
    "data = []\n",
    "dict_all = {}\n",
    "\n",
    "for i in raw_data:\n",
    "    print(i)\n",
    "print() \n",
    "\n",
    "# split raw_data into fragment\n",
    "c = 0\n",
    "while c < int(len(raw_data[0])):\n",
    "    temp = []\n",
    "    for r in raw_data:\n",
    "        temp.append(r[c: c+size]) \n",
    "    c = c + size    \n",
    "    data.append(temp)\n",
    "# check data freq.\n",
    "for i in data:\n",
    "    for j in i:\n",
    "        for k in j:\n",
    "            if dict_all.get(k) == None: \n",
    "                dict_all[k] = 1\n",
    "            else:\n",
    "                dict_all[k] += 1\n",
    "            \n",
    "for i in data:\n",
    "    print(i)\n",
    "print()\n",
    "print(dict_all)"
   ]
  },
  {
   "cell_type": "code",
   "execution_count": 11,
   "metadata": {
    "collapsed": false
   },
   "outputs": [
    {
     "name": "stdout",
     "output_type": "stream",
     "text": [
      "['f2', 'd1', 'e1']\n",
      "['f2', 'd2', 'e1']\n",
      "['f2', 'd1', 'e2']\n",
      "['f2', 'd1', 'e2']\n",
      "['f2', 'd1', 'e3']\n"
     ]
    }
   ],
   "source": [
    "for r in raw_data:\n",
    "    print(r[3:6])"
   ]
  },
  {
   "cell_type": "code",
   "execution_count": null,
   "metadata": {
    "collapsed": true
   },
   "outputs": [],
   "source": []
  }
 ],
 "metadata": {
  "anaconda-cloud": {},
  "kernelspec": {
   "display_name": "Python [conda env:anaconda]",
   "language": "python",
   "name": "conda-env-anaconda-py"
  },
  "language_info": {
   "codemirror_mode": {
    "name": "ipython",
    "version": 3
   },
   "file_extension": ".py",
   "mimetype": "text/x-python",
   "name": "python",
   "nbconvert_exporter": "python",
   "pygments_lexer": "ipython3",
   "version": "3.5.2"
  }
 },
 "nbformat": 4,
 "nbformat_minor": 1
}
