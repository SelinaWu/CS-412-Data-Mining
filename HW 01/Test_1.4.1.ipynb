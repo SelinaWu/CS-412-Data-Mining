{
 "cells": [
  {
   "cell_type": "code",
   "execution_count": 1,
   "metadata": {
    "collapsed": true
   },
   "outputs": [],
   "source": [
    "from sklearn.preprocessing import StandardScaler\n",
    "from sklearn.preprocessing import MinMaxScaler\n",
    "\n",
    "def standardScaler(ls):\n",
    "    return StandardScaler().fit_transform(ls)\n",
    "\n",
    "def minmaxScaler(ls):\n",
    "    return MinMaxScaler().fit_transform(ls)"
   ]
  },
  {
   "cell_type": "code",
   "execution_count": 20,
   "metadata": {
    "collapsed": false
   },
   "outputs": [
    {
     "name": "stdout",
     "output_type": "stream",
     "text": [
      "[[-0.33482477 -0.20851441  0.22941573  0.50260283 -0.85057197]\n",
      " [-0.87054439 -0.20851441 -1.60591014 -1.32504382  0.96398156]\n",
      " [ 0.20089486  0.62554324  1.14707867  1.96472015  1.41761994]\n",
      " [-0.33482477 -0.20851441  0.22941573  0.50260283 -0.85057197]\n",
      " [-1.40626401 -1.04257207 -1.60591014 -0.59398516  1.41761994]\n",
      " [ 1.27233411 -1.04257207  0.22941573 -0.95951449 -0.85057197]\n",
      " [ 1.80805373  2.29365855  1.14707867 -0.59398516 -0.39693358]\n",
      " [-0.33482477 -0.20851441  0.22941573  0.50260283 -0.85057197]]\n",
      "[[6.78232998]\n",
      " [6.63324958]\n",
      " [0.        ]\n",
      " [6.55743852]\n",
      " [5.09901951]\n",
      " [6.        ]\n",
      " [0.        ]]\n"
     ]
    }
   ],
   "source": [
    "fp = 'test_01'\n",
    "dataSet = []\n",
    "N = 0\n",
    "raw_data = open(fp).read()\n",
    "raw_data = [n.split() for n in raw_data.split('\\n')] \n",
    "\n",
    "for i in range(len(raw_data)):\n",
    "    for j in range(len(raw_data[i])):\n",
    "        raw_data[i][j] = int(raw_data[i][j])\n",
    "N = raw_data[1][0]\n",
    "for i in range(N + 1):\n",
    "    if len(raw_data[i + 4])!= 0:\n",
    "        dataSet.append(raw_data[i + 4])   \n",
    "\n",
    "data_std = standardScaler(dataSet)\n",
    "print(data_std)\n",
    "#data_scl = minmaxScaler(dataSet)\n",
    "#print(data_scl)\n",
    "\n",
    "from sklearn.metrics.pairwise import euclidean_distances\n",
    "result = euclidean_distances(dataSet[1:8], [dataSet[0]])\n",
    "print(result)"
   ]
  },
  {
   "cell_type": "code",
   "execution_count": 21,
   "metadata": {
    "collapsed": false
   },
   "outputs": [
    {
     "name": "stdout",
     "output_type": "stream",
     "text": [
      "[(array([6.78232998]), 1), (array([6.63324958]), 2), (array([6.55743852]), 4), (array([6.]), 6), (array([5.09901951]), 5), (array([0.]), 7), (array([0.]), 3)]\n"
     ]
    }
   ],
   "source": [
    "# Make a list of (eigenvalue, eigenvector) tuples\n",
    "result_pairs = [(result[i], i + 1) for i in range(len(result))]\n",
    "\n",
    "# Sort the (eigenvalue, eigenvector) tuples from high to low\n",
    "result_pairs.sort(key=lambda x: x[0], reverse=True)\n",
    "\n",
    "for i in range(len(result_pairs) - 1):\n",
    "    if result_pairs[i][0] == result_pairs[i+1][0]:\n",
    "        if result_pairs[i][1] < result_pairs[i+1][1]:\n",
    "            result_pairs[i], result_pairs[i+1] = result_pairs[i+1], result_pairs[i]\n",
    "            \n",
    "print(result_pairs)"
   ]
  },
  {
   "cell_type": "code",
   "execution_count": 21,
   "metadata": {
    "collapsed": false
   },
   "outputs": [
    {
     "data": {
      "text/plain": [
       "[[4, 5], [4, 2], [3, 4], [3, 2], [3, 5], [3, 1]]"
      ]
     },
     "execution_count": 21,
     "metadata": {},
     "output_type": "execute_result"
    }
   ],
   "source": [
    "result_pairs = [[3,4],[4,5],[3,2],[3,5],[3,1],[4,2]]\n",
    "result_pairs.sort(key=lambda x: x[0], reverse=True)\n",
    "result_pairs"
   ]
  },
  {
   "cell_type": "code",
   "execution_count": 16,
   "metadata": {
    "collapsed": true
   },
   "outputs": [],
   "source": [
    "for i in range(len(result_pairs) - 1):\n",
    "    while result_pairs[i][0] == result_pairs[i+1][0]:\n",
    "        i += 1\n",
    "    result_pairs[]\n",
    "        if result_pairs[i][1] < result_pairs[i+1][1]:\n",
    "            result_pairs[i], result_pairs[i+1] = result_pairs[i+1], result_pairs[i]"
   ]
  },
  {
   "cell_type": "code",
   "execution_count": 22,
   "metadata": {
    "collapsed": false
   },
   "outputs": [],
   "source": [
    "result_pairs[2:].sort(key=lambda x: x[1], reverse=True)"
   ]
  },
  {
   "cell_type": "code",
   "execution_count": 26,
   "metadata": {
    "collapsed": false
   },
   "outputs": [],
   "source": [
    "import heapq\n",
    "heapq.heapify(result_pairs)"
   ]
  },
  {
   "cell_type": "code",
   "execution_count": 27,
   "metadata": {
    "collapsed": false
   },
   "outputs": [
    {
     "data": {
      "text/plain": [
       "[[3, 1], [3, 2], [3, 4], [4, 2], [3, 5], [4, 5]]"
      ]
     },
     "execution_count": 27,
     "metadata": {},
     "output_type": "execute_result"
    }
   ],
   "source": [
    "result_pairs"
   ]
  },
  {
   "cell_type": "code",
   "execution_count": 28,
   "metadata": {
    "collapsed": false
   },
   "outputs": [
    {
     "name": "stdout",
     "output_type": "stream",
     "text": [
      "[3, 1]\n",
      "[3, 2]\n",
      "[3, 4]\n",
      "[3, 5]\n",
      "[4, 2]\n",
      "[4, 5]\n"
     ]
    }
   ],
   "source": [
    "while result_pairs:\n",
    "    print(heapq.heappop(result_pairs))"
   ]
  },
  {
   "cell_type": "code",
   "execution_count": null,
   "metadata": {
    "collapsed": true
   },
   "outputs": [],
   "source": []
  }
 ],
 "metadata": {
  "anaconda-cloud": {},
  "kernelspec": {
   "display_name": "Python [conda root]",
   "language": "python",
   "name": "conda-root-py"
  },
  "language_info": {
   "codemirror_mode": {
    "name": "ipython",
    "version": 3
   },
   "file_extension": ".py",
   "mimetype": "text/x-python",
   "name": "python",
   "nbconvert_exporter": "python",
   "pygments_lexer": "ipython3",
   "version": "3.5.2"
  }
 },
 "nbformat": 4,
 "nbformat_minor": 1
}
