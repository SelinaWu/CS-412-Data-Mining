{
 "cells": [
  {
   "cell_type": "code",
   "execution_count": 14,
   "metadata": {
    "collapsed": false
   },
   "outputs": [],
   "source": [
    "filePath = 'Q1-data.txt'\n",
    "\n",
    "input_data = []\n",
    "binning_result = []\n",
    "\n",
    "with open(filePath) as fp:\n",
    "    for line in fp:\n",
    "        temp = \"\"\n",
    "        curr_line = []\n",
    "        for elem in line:\n",
    "            if elem != '\\t' and elem != ' ':\n",
    "                temp += elem\n",
    "            elif temp != \"\":\n",
    "                    curr_line.append(temp)\n",
    "                    temp = \"\"\n",
    "        input_data.append(curr_line)     \n",
    "\n",
    "del input_data[1][1]\n",
    "del input_data[2][1]\n",
    "del input_data[3][1]\n",
    "\n",
    "A = []\n",
    "B = []\n",
    "Water = []\n",
    "\n",
    "for i in range(1,len(input_data[0])):   \n",
    "    A.append(float(input_data[1][i]))\n",
    "    B.append(float(input_data[2][i]))\n",
    "    Water.append(float(input_data[3][i]))\n",
    "\n",
    "exp_data = [A,B,Water]"
   ]
  },
  {
   "cell_type": "code",
   "execution_count": 15,
   "metadata": {
    "collapsed": false
   },
   "outputs": [],
   "source": [
    "t_a = []\n",
    "t_b = []\n",
    "t_w = []\n",
    "n_a = []\n",
    "n_b = []\n",
    "n_w = []\n",
    "\n",
    "for i in range(len(exp_data[0])):\n",
    "    if exp_data[2][i] > 50:\n",
    "        t_a.append(exp_data[0][i])\n",
    "        t_b.append(exp_data[1][i])\n",
    "        t_w.append(exp_data[2][i])\n",
    "    else:\n",
    "        n_a.append(exp_data[0][i])\n",
    "        n_b.append(exp_data[1][i])\n",
    "        n_w.append(exp_data[2][i])\n",
    "        \n",
    "toxic = [t_a,t_b,t_w]\n",
    "non_toxic = [n_a,n_b,n_w]"
   ]
  },
  {
   "cell_type": "code",
   "execution_count": 16,
   "metadata": {
    "collapsed": false
   },
   "outputs": [],
   "source": [
    "def print_ls(ls):\n",
    "    for a in ls:\n",
    "        print(a)\n",
    "        print()"
   ]
  },
  {
   "cell_type": "code",
   "execution_count": 17,
   "metadata": {
    "collapsed": false
   },
   "outputs": [],
   "source": [
    "def normal_by_line(line):\n",
    "    min_l = min(line)\n",
    "    max_l = max(line)\n",
    "    print(min_l,max_l)\n",
    "    for i in range(len(line)):\n",
    "        line[i] = (line[i] - min_l)/(max_l - min_l)\n",
    "\n",
    "def normal_list(ls):\n",
    "    print(\"A: \")\n",
    "    normal_by_line(ls[0])\n",
    "    print(\"B: \")\n",
    "    normal_by_line(ls[1])\n"
   ]
  },
  {
   "cell_type": "code",
   "execution_count": 18,
   "metadata": {
    "collapsed": false
   },
   "outputs": [
    {
     "name": "stdout",
     "output_type": "stream",
     "text": [
      "A: \n",
      "0.63 8.62\n",
      "B: \n",
      "9.2 98.8\n",
      "A: \n",
      "0.17 9.94\n",
      "B: \n",
      "1.6 98.1\n"
     ]
    }
   ],
   "source": [
    "normal_list(toxic)\n",
    "normal_list(non_toxic)"
   ]
  },
  {
   "cell_type": "code",
   "execution_count": 19,
   "metadata": {
    "collapsed": false
   },
   "outputs": [],
   "source": [
    "# 1.2 write to csv\n",
    "import csv\n",
    "\n",
    "def write_to_csv(ls):\n",
    "    for i in range(len(ls[0])):\n",
    "        writer.writerow({'A': ls[0][i], 'B': ls[1][i], 'W': ls[2][i]})\n",
    "    writer.writerow({'A':'#' , 'B':'#' , 'W':'#' })\n",
    "    \n",
    "with open('test.csv','w') as csvfile:\n",
    "    fieldnames = ['A', 'B','W']\n",
    "    writer = csv.DictWriter(csvfile, fieldnames=fieldnames)\n",
    "\n",
    "    writer.writeheader()\n",
    "    write_to_csv(toxic)\n",
    "    write_to_csv(non_toxic)"
   ]
  },
  {
   "cell_type": "code",
   "execution_count": 20,
   "metadata": {
    "collapsed": false
   },
   "outputs": [
    {
     "data": {
      "image/png": "[encoded data removed]",
      "text/plain": [
       "<matplotlib.figure.Figure at 0x7f7390d88898>"
      ]
     },
     "metadata": {},
     "output_type": "display_data"
    },
    {
     "data": {
      "image/png": "[encoded data removed]",
      "text/plain": [
       "<matplotlib.figure.Figure at 0x7f7390d88828>"
      ]
     },
     "metadata": {},
     "output_type": "display_data"
    }
   ],
   "source": [
    "# 1.3 scatter plot\n",
    "import matplotlib.pyplot as plt\n",
    "\n",
    "x = non_toxic[0]\n",
    "y = non_toxic[1]\n",
    "\n",
    "plt.scatter(x, y)\n",
    "plt.title(\"Non_Toxic Water\")\n",
    "plt.xlabel(\"Substance A\")\n",
    "plt.xlim(0,)\n",
    "plt.ylim(0,)\n",
    "plt.ylabel(\"Substance B\")\n",
    "plt.show()\n",
    "\n",
    "plt.hist(exp_data[2], bins =100)\n",
    "plt.title(\"Histogram on water quality\")\n",
    "plt.xlabel(\"Water Quality\")\n",
    "plt.ylabel(\"Frequency\")\n",
    "\n",
    "plt.show()"
   ]
  },
  {
   "cell_type": "code",
   "execution_count": 92,
   "metadata": {
    "collapsed": false
   },
   "outputs": [],
   "source": [
    "import numpy as np\n",
    "\n",
    "def pearson_correlation(ls):\n",
    "    std_A = np.std(ls[0])\n",
    "    std_B = np.std(ls[1])\n",
    "    n = len(ls[0])\n",
    "    mean_A = np.mean(ls[0])\n",
    "    mean_B = np.mean(ls[1])\n",
    "    total = 0\n",
    "    for i in range(len(ls[0])):\n",
    "        total += ls[0][i] * ls[1][i]\n",
    "    return (total - n * mean_A * mean_B)/(n * std_A * std_B)"
   ]
  },
  {
   "cell_type": "code",
   "execution_count": 93,
   "metadata": {
    "collapsed": false
   },
   "outputs": [
    {
     "data": {
      "text/plain": [
       "0.8907921742460634"
      ]
     },
     "execution_count": 93,
     "metadata": {},
     "output_type": "execute_result"
    }
   ],
   "source": [
    "pearson_correlation(toxic)"
   ]
  },
  {
   "cell_type": "code",
   "execution_count": 94,
   "metadata": {
    "collapsed": false
   },
   "outputs": [
    {
     "data": {
      "text/plain": [
       "-0.44962747254599306"
      ]
     },
     "execution_count": 94,
     "metadata": {},
     "output_type": "execute_result"
    }
   ],
   "source": [
    "pearson_correlation(non_toxic)"
   ]
  },
  {
   "cell_type": "code",
   "execution_count": 10,
   "metadata": {
    "collapsed": false
   },
   "outputs": [
    {
     "data": {
      "text/plain": [
       "[11.5,\n",
       " 17.7,\n",
       " 73.4,\n",
       " 11.2,\n",
       " 74.9,\n",
       " 6.0,\n",
       " 15.2,\n",
       " 64.9,\n",
       " 14.1,\n",
       " 76.8,\n",
       " 11.3,\n",
       " 9.4,\n",
       " 13.8,\n",
       " 55.5,\n",
       " 61.4,\n",
       " 21.4,\n",
       " 90.7,\n",
       " 70.1,\n",
       " 60.0,\n",
       " 6.7,\n",
       " 13.0,\n",
       " 80.1,\n",
       " 8.4,\n",
       " 64.9,\n",
       " 9.3,\n",
       " 9.6,\n",
       " 11.5,\n",
       " 7.5,\n",
       " 77.0,\n",
       " 11.9,\n",
       " 81.2,\n",
       " 14.9,\n",
       " 83.8,\n",
       " 15.8,\n",
       " 16.5,\n",
       " 69.0,\n",
       " 7.6,\n",
       " 10.6,\n",
       " 77.9]"
      ]
     },
     "execution_count": 10,
     "metadata": {},
     "output_type": "execute_result"
    }
   ],
   "source": [
    "exp_data[2]"
   ]
  },
  {
   "cell_type": "code",
   "execution_count": null,
   "metadata": {
    "collapsed": true
   },
   "outputs": [],
   "source": []
  }
 ],
 "metadata": {
  "anaconda-cloud": {},
  "kernelspec": {
   "display_name": "Python [conda root]",
   "language": "python",
   "name": "conda-root-py"
  },
  "language_info": {
   "codemirror_mode": {
    "name": "ipython",
    "version": 3
   },
   "file_extension": ".py",
   "mimetype": "text/x-python",
   "name": "python",
   "nbconvert_exporter": "python",
   "pygments_lexer": "ipython3",
   "version": "3.5.2"
  }
 },
 "nbformat": 4,
 "nbformat_minor": 1
}
