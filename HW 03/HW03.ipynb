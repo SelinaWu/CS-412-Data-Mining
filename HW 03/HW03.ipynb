{
 "cells": [
  {
   "cell_type": "code",
   "execution_count": 151,
   "metadata": {
    "collapsed": false
   },
   "outputs": [
    {
     "name": "stdout",
     "output_type": "stream",
     "text": [
      "min_sup:  2\n",
      "dictionary:  {'AB': 1, 'AD': 1, 'BC': 2, 'CD': 2, 'AC': 2, 'BD': 2}\n",
      "\n",
      "Counter({'C': 3, 'B': 2, 'A': 2, 'D': 2, 'E': 1})\n",
      "result list:  [[3, 'C'], [2, 'B'], [2, 'A'], [2, 'D'], [2, 'BC'], [2, 'CD'], [2, 'AC'], [2, 'BD']]\n"
     ]
    }
   ],
   "source": [
    "from collections import Counter\n",
    "from itertools import combinations\n",
    "\n",
    "def comb(ls):\n",
    "    comb_r = []\n",
    "    num = 1\n",
    "    while num <= len(ls):\n",
    "        comb = combinations(ls, num)\n",
    "        num += 1\n",
    "        for i in comb:\n",
    "            temp = []\n",
    "            for j in i:\n",
    "                temp.append(j)\n",
    "            comb_r.append(temp)\n",
    "    return comb_r\n",
    "\n",
    "def frq(char, ls):\n",
    "    ct = 0\n",
    "    for i in ls:\n",
    "        for j in i:\n",
    "            if j == char:\n",
    "                ct += 1\n",
    "    return ct\n",
    "\n",
    "def intersect(a, b):\n",
    "    return list(set(a) & set(b))\n",
    "\n",
    "def to_string(ls):\n",
    "    res =\"\"\n",
    "    for i in ls:\n",
    "        res += i\n",
    "    return res\n",
    "###########################################################\n",
    "\n",
    "fp = \"data.txt\"\n",
    "\n",
    "raw_data = open(fp).read()\n",
    "raw_data = [n.split() for n in raw_data.split('\\n')]\n",
    "min_sup = int(raw_data[0][0])\n",
    "print(\"min_sup: \", min_sup)\n",
    "del raw_data[0]\n",
    "data_col = []\n",
    "for i in range(len(raw_data)):\n",
    "    data_col += raw_data[i]\n",
    "    \n",
    "# collect the frequency of each char and check min_sup \n",
    "data_col = Counter(data_col)\n",
    "result_list = []\n",
    "char_list = []\n",
    "for i in range(1,len(data_col)+1):\n",
    "    temp = Counter(data_col).most_common(i)\n",
    "    if temp[i-1][1] >= min_sup:\n",
    "        result_list.append([temp[i-1][1],temp[i-1][0]])\n",
    "        char_list.append(temp[i-1][0])\n",
    "    \n",
    "char_list = sorted(char_list)\n",
    "char_list = combinations(char_list,2)\n",
    "res_dic = {}\n",
    "\n",
    "for part in char_list:\n",
    "    for line in raw_data:\n",
    "            line = to_string(line)\n",
    "            part = to_string(part)\n",
    "            res = True\n",
    "            # check existance\n",
    "            for i in part:\n",
    "                res = i in line\n",
    "                if res == False:\n",
    "                    break\n",
    "            if res:\n",
    "                if res_dic.get(part) == None:\n",
    "                    res_dic[part] = 1\n",
    "                else:\n",
    "                    res_dic[part] += 1\n",
    "# check min_sup                \n",
    "for elm in res_dic:\n",
    "    if(res_dic[elm] >= min_sup):\n",
    "        result_list.append([res_dic[elm],elm])\n",
    "\n",
    "    \n",
    "print(\"dictionary: \", res_dic)       \n",
    "print()\n",
    "print(data_frq)\n",
    "print(\"result list: \",result_list)\n"
   ]
  },
  {
   "cell_type": "code",
   "execution_count": 17,
   "metadata": {
    "collapsed": false
   },
   "outputs": [],
   "source": [
    "from collections import Counter\n",
    "users_data = {}\n",
    "users_data[1] = [3,4,6,7,8]\n",
    "users_data[2] = [3,5,9,7]\n",
    "users_data[3] = [1,2,5,7,9]\n",
    "users_data[4] = [1,6,8,9]\n",
    "users_data[5] = [2,3,8]\n",
    "users_data[6] = [1,4,7,8]\n",
    "users_data[7] = [1,2,3,6,9]\n",
    "users_data[8] = [1,4,5,6]\n",
    "users_data[9] = [2,3,4,7]\n",
    "def get_list(id):\n",
    "    return users_data[id]\n",
    "\n",
    "def possible_friend(id):\n",
    "    curr_list = get_list(id)\n",
    "    res = {}\n",
    "    for i in curr_list:\n",
    "        temp_list = get_list(i)\n",
    "        for j in temp_list:\n",
    "            if res.get(j) == None:\n",
    "                res[j] = 1\n",
    "            else:\n",
    "                res[j] += 1\n",
    "    res = Counter(res)\n",
    "    for i in curr_list:\n",
    "        del res[i]\n",
    "    del res[id]\n",
    "    return res"
   ]
  },
  {
   "cell_type": "code",
   "execution_count": 18,
   "metadata": {
    "collapsed": false
   },
   "outputs": [
    {
     "data": {
      "text/plain": [
       "Counter({2: 2, 5: 2, 9: 3})"
      ]
     },
     "execution_count": 18,
     "metadata": {},
     "output_type": "execute_result"
    }
   ],
   "source": [
    "possible_friend(1)"
   ]
  },
  {
   "cell_type": "code",
   "execution_count": 140,
   "metadata": {
    "collapsed": false
   },
   "outputs": [
    {
     "name": "stdout",
     "output_type": "stream",
     "text": [
      "True\n",
      "{'B', 'E', 'A', 'C', 'D'}\n",
      "['A', 'B']\n"
     ]
    }
   ],
   "source": [
    "\n",
    "A = raw_data[0]\n",
    "B = ['A','B']\n",
    "\n",
    "A = to_string(A)                \n",
    "B = to_string(B)               \n",
    "res = True\n",
    "\n",
    "for i in B:\n",
    "    res = i in A\n",
    "    if res == False:\n",
    "        break\n",
    "print(res)\n",
    "\n",
    "\n",
    "print(set(A))\n",
    "print(sorted(set(B)))"
   ]
  },
  {
   "cell_type": "code",
   "execution_count": 110,
   "metadata": {
    "collapsed": false
   },
   "outputs": [
    {
     "data": {
      "text/plain": [
       "'BACED'"
      ]
     },
     "execution_count": 110,
     "metadata": {},
     "output_type": "execute_result"
    }
   ],
   "source": [
    "def to_string(ls):\n",
    "    res =\"\"\n",
    "    for i in ls:\n",
    "        res += i\n",
    "    return res\n",
    "A = raw_data[0]\n",
    "to_string(A)"
   ]
  },
  {
   "cell_type": "code",
   "execution_count": null,
   "metadata": {
    "collapsed": true
   },
   "outputs": [],
   "source": []
  }
 ],
 "metadata": {
  "anaconda-cloud": {},
  "kernelspec": {
   "display_name": "Python [conda env:anaconda]",
   "language": "python",
   "name": "conda-env-anaconda-py"
  },
  "language_info": {
   "codemirror_mode": {
    "name": "ipython",
    "version": 3
   },
   "file_extension": ".py",
   "mimetype": "text/x-python",
   "name": "python",
   "nbconvert_exporter": "python",
   "pygments_lexer": "ipython3",
   "version": "3.5.2"
  }
 },
 "nbformat": 4,
 "nbformat_minor": 1
}
