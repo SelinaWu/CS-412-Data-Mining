{
 "cells": [
  {
   "cell_type": "code",
   "execution_count": 36,
   "metadata": {
    "collapsed": false
   },
   "outputs": [],
   "source": [
    "import numpy as np\n",
    "fp = './Data01'"
   ]
  },
  {
   "cell_type": "code",
   "execution_count": 49,
   "metadata": {
    "collapsed": false
   },
   "outputs": [
    {
     "name": "stdout",
     "output_type": "stream",
     "text": [
      "['1', ' 0.12345', ' 0.54321\\n']\n",
      "['0', ' 0.87654', ' 0.12354']\n"
     ]
    }
   ],
   "source": [
    "with open(fp) as f:\n",
    "    label = []\n",
    "    dataSet = []\n",
    "    \n",
    "    for line in f:\n",
    "        row = line.split(',')\n",
    "        label.append(int(row[0]))\n",
    "        dataSet.append([float(x) for x in row[1:]])\n",
    "        \n",
    "    dataSet_np = np.matrix(dataSet).astype(np.float32)\n",
    "    label_np = np.matrix(label).astype(dtype = np.uint8)\n",
    "    label_one_hot = np.zeros((label_np.size, label_np.max()+1))\n",
    "    label_one_hot[np.arange(label_np.max()+1), label_np] = 1\n",
    "    #print(label_one_hot)"
   ]
  },
  {
   "cell_type": "code",
   "execution_count": 52,
   "metadata": {
    "collapsed": false
   },
   "outputs": [
    {
     "name": "stdout",
     "output_type": "stream",
     "text": [
      "[[0. 1.]\n",
      " [1. 0.]]\n"
     ]
    }
   ],
   "source": [
    "print(label_one_hot)"
   ]
  },
  {
   "cell_type": "code",
   "execution_count": null,
   "metadata": {
    "collapsed": true
   },
   "outputs": [],
   "source": []
  }
 ],
 "metadata": {
  "kernelspec": {
   "display_name": "Python [conda root]",
   "language": "python",
   "name": "conda-root-py"
  },
  "language_info": {
   "codemirror_mode": {
    "name": "ipython",
    "version": 3
   },
   "file_extension": ".py",
   "mimetype": "text/x-python",
   "name": "python",
   "nbconvert_exporter": "python",
   "pygments_lexer": "ipython3",
   "version": "3.5.2"
  }
 },
 "nbformat": 4,
 "nbformat_minor": 1
}
